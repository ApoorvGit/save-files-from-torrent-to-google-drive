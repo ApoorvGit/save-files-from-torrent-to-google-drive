{
  "cells": [
    {
      "cell_type": "markdown",
      "metadata": {
        "id": "aQuWDmfm9YOi"
      },
      "source": [
        "# Torrents To Google Drive Downloader\n",
        "*Python app to save content from torrent directly to google drive.*"
      ]
    },
    {
      "cell_type": "markdown",
      "metadata": {
        "id": "Uf90U73y9YOj"
      },
      "source": [
        "### Step 1: Mount Google Drive\n",
        "To stream files we need to get access to write on that drive."
      ]
    },
    {
      "cell_type": "code",
      "execution_count": 2,
      "metadata": {
        "colab": {
          "base_uri": "https://localhost:8080/"
        },
        "id": "oWM9l2fvtuvO",
        "outputId": "f8ed0d5a-17f1-4d57-ef30-7c49b2a9392d"
      },
      "outputs": [
        {
          "output_type": "stream",
          "name": "stdout",
          "text": [
            "Mounted at /content/drive\n"
          ]
        }
      ],
      "source": [
        "from google.colab import drive\n",
        "drive.mount('/content/drive')"
      ]
    },
    {
      "cell_type": "markdown",
      "metadata": {
        "id": "FexiyATtNwTG"
      },
      "source": [
        "### Step 2: Install libtorrent library\n",
        "Libtorrent is a feature complete C++ bittorrent implementation focusing on efficiency and scalability.\n",
        "https://www.libtorrent.org/"
      ]
    },
    {
      "cell_type": "code",
      "execution_count": 3,
      "metadata": {
        "colab": {
          "base_uri": "https://localhost:8080/"
        },
        "id": "m6hF0emftx4h",
        "outputId": "809b3fb4-e330-47c7-8221-b09d57458efd"
      },
      "outputs": [
        {
          "output_type": "stream",
          "name": "stdout",
          "text": [
            "Requirement already satisfied: pip in /usr/local/lib/python3.7/dist-packages (21.1.3)\n",
            "Collecting pip\n",
            "  Downloading pip-22.0.3-py3-none-any.whl (2.1 MB)\n",
            "\u001b[K     |████████████████████████████████| 2.1 MB 23.9 MB/s \n",
            "\u001b[?25hRequirement already satisfied: setuptools in /usr/local/lib/python3.7/dist-packages (57.4.0)\n",
            "Collecting setuptools\n",
            "  Downloading setuptools-60.8.2-py3-none-any.whl (1.1 MB)\n",
            "\u001b[K     |████████████████████████████████| 1.1 MB 59.1 MB/s \n",
            "\u001b[?25hRequirement already satisfied: wheel in /usr/local/lib/python3.7/dist-packages (0.37.1)\n",
            "Installing collected packages: setuptools, pip\n",
            "  Attempting uninstall: setuptools\n",
            "    Found existing installation: setuptools 57.4.0\n",
            "    Uninstalling setuptools-57.4.0:\n",
            "      Successfully uninstalled setuptools-57.4.0\n",
            "  Attempting uninstall: pip\n",
            "    Found existing installation: pip 21.1.3\n",
            "    Uninstalling pip-21.1.3:\n",
            "      Successfully uninstalled pip-21.1.3\n",
            "\u001b[31mERROR: pip's dependency resolver does not currently take into account all the packages that are installed. This behaviour is the source of the following dependency conflicts.\n",
            "datascience 0.10.6 requires folium==0.2.1, but you have folium 0.8.3 which is incompatible.\u001b[0m\n",
            "Successfully installed pip-22.0.3 setuptools-60.8.2\n",
            "Collecting lbry-libtorrent\n",
            "  Downloading lbry_libtorrent-1.2.4-py3-none-any.whl (2.4 MB)\n",
            "\u001b[2K     \u001b[90m━━━━━━━━━━━━━━━━━━━━━━━━━━━━━━━━━━━━━━━━\u001b[0m \u001b[32m2.4/2.4 MB\u001b[0m \u001b[31m38.7 MB/s\u001b[0m eta \u001b[36m0:00:00\u001b[0m\n",
            "\u001b[?25hInstalling collected packages: lbry-libtorrent\n",
            "Successfully installed lbry-libtorrent-1.2.4\n",
            "\u001b[33mWARNING: Running pip as the 'root' user can result in broken permissions and conflicting behaviour with the system package manager. It is recommended to use a virtual environment instead: https://pip.pypa.io/warnings/venv\u001b[0m\u001b[33m\n",
            "\u001b[0m"
          ]
        }
      ],
      "source": [
        "!python -m pip install --upgrade pip setuptools wheel\n",
        "!python -m pip install lbry-libtorrent"
      ]
    },
    {
      "cell_type": "markdown",
      "metadata": {
        "id": "j-ILSl_YOGRS"
      },
      "source": [
        "### Step 3: Paste the Magnet Link in the input box\n",
        "Variable **link** stores the link string."
      ]
    },
    {
      "cell_type": "code",
      "execution_count": 4,
      "metadata": {
        "colab": {
          "base_uri": "https://localhost:8080/"
        },
        "id": "xoyBbqS9LZr3",
        "outputId": "2e205538-26d6-4b81-e9d6-3947c724e746"
      },
      "outputs": [
        {
          "name": "stdout",
          "output_type": "stream",
          "text": [
            "PASTE TORRENT/MAGNET LINK HERE \n",
            "magnet:?xt=urn:btih:6C14DC4BEB375C658B79D8427CBCCEF121123B21&dn=The%20Lion%20King&tr=http://track.one:1234/announce&tr=udp://track.two:80\n"
          ]
        }
      ],
      "source": [
        "link = input(\"PASTE TORRENT/MAGNET LINK HERE \\n\") # PASTE TORRENT/MAGNET LINK HERE"
      ]
    },
    {
      "cell_type": "markdown",
      "metadata": {
        "id": "tqKcWHZcYRIA"
      },
      "source": [
        "### Step 4: Download torrent"
      ]
    },
    {
      "cell_type": "code",
      "execution_count": null,
      "metadata": {
        "colab": {
          "base_uri": "https://localhost:8080/"
        },
        "id": "b09BxnANO2ep",
        "outputId": "1136812c-e827-4cb2-dccc-be3c95634d03"
      },
      "outputs": [
        {
          "output_type": "stream",
          "name": "stdout",
          "text": [
            "magnet:?xt=urn:btih:6C14DC4BEB375C658B79D8427CBCCEF121123B21&dn=The%20Lion%20King&tr=http://track.one:1234/announce&tr=udp://track.two:80\n",
            "2022-02-11 06:46:45.757899\n",
            "Downloading Metadata...\n",
            "Got Metadata, Starting Torrent Download...\n",
            "Starting The Lion King (2019) [BluRay] [3D] [HSBS] [YTS.LT]\n",
            "0.00% complete (down: 15.4 kb/s up: 0.8 kB/s peers: 3) downloading \n",
            "0.03% complete (down: 75.8 kb/s up: 2.9 kB/s peers: 3) downloading \n",
            "0.09% complete (down: 201.5 kb/s up: 6.5 kB/s peers: 17) downloading \n",
            "0.13% complete (down: 194.5 kb/s up: 6.1 kB/s peers: 16) downloading \n",
            "0.17% complete (down: 171.0 kb/s up: 5.1 kB/s peers: 16) downloading \n",
            "0.19% complete (down: 102.1 kb/s up: 3.0 kB/s peers: 16) downloading \n",
            "0.23% complete (down: 140.4 kb/s up: 4.1 kB/s peers: 16) downloading \n",
            "0.26% complete (down: 157.6 kb/s up: 4.6 kB/s peers: 16) downloading \n",
            "0.30% complete (down: 149.2 kb/s up: 4.6 kB/s peers: 15) downloading \n",
            "0.36% complete (down: 202.6 kb/s up: 6.2 kB/s peers: 15) downloading \n",
            "0.40% complete (down: 189.7 kb/s up: 5.9 kB/s peers: 15) downloading \n",
            "0.46% complete (down: 221.5 kb/s up: 6.9 kB/s peers: 15) downloading \n",
            "0.51% complete (down: 214.1 kb/s up: 6.7 kB/s peers: 15) downloading \n",
            "0.56% complete (down: 204.9 kb/s up: 6.5 kB/s peers: 15) downloading \n",
            "0.62% complete (down: 235.6 kb/s up: 7.7 kB/s peers: 31) downloading \n",
            "0.68% complete (down: 243.3 kb/s up: 8.0 kB/s peers: 32) downloading \n",
            "0.71% complete (down: 166.9 kb/s up: 5.3 kB/s peers: 33) downloading \n",
            "0.81% complete (down: 272.6 kb/s up: 8.3 kB/s peers: 32) downloading \n",
            "0.90% complete (down: 323.4 kb/s up: 9.8 kB/s peers: 32) downloading \n",
            "0.97% complete (down: 258.3 kb/s up: 7.7 kB/s peers: 32) downloading \n",
            "1.06% complete (down: 305.3 kb/s up: 9.0 kB/s peers: 33) downloading \n",
            "1.15% complete (down: 364.9 kb/s up: 10.7 kB/s peers: 33) downloading \n",
            "1.22% complete (down: 267.9 kb/s up: 7.8 kB/s peers: 33) downloading \n",
            "1.30% complete (down: 358.3 kb/s up: 10.5 kB/s peers: 33) downloading \n",
            "1.36% complete (down: 274.7 kb/s up: 8.0 kB/s peers: 33) downloading \n",
            "1.45% complete (down: 320.5 kb/s up: 9.6 kB/s peers: 33) downloading \n",
            "1.51% complete (down: 273.7 kb/s up: 8.6 kB/s peers: 46) downloading \n",
            "1.58% complete (down: 293.2 kb/s up: 8.9 kB/s peers: 47) downloading \n",
            "1.64% complete (down: 279.0 kb/s up: 8.8 kB/s peers: 48) downloading \n",
            "1.72% complete (down: 309.0 kb/s up: 21.4 kB/s peers: 48) downloading \n",
            "1.81% complete (down: 341.7 kb/s up: 23.3 kB/s peers: 72) downloading \n",
            "1.89% complete (down: 337.5 kb/s up: 18.7 kB/s peers: 71) downloading \n",
            "1.96% complete (down: 311.6 kb/s up: 28.7 kB/s peers: 70) downloading \n",
            "2.02% complete (down: 260.5 kb/s up: 22.8 kB/s peers: 69) downloading \n",
            "2.05% complete (down: 196.8 kb/s up: 11.0 kB/s peers: 69) downloading \n",
            "2.07% complete (down: 129.8 kb/s up: 8.1 kB/s peers: 69) downloading \n",
            "2.10% complete (down: 88.1 kb/s up: 9.2 kB/s peers: 69) downloading \n",
            "2.10% complete (down: 66.2 kb/s up: 6.8 kB/s peers: 69) downloading \n",
            "2.12% complete (down: 43.9 kb/s up: 15.1 kB/s peers: 70) downloading \n",
            "2.24% complete (down: 340.7 kb/s up: 25.6 kB/s peers: 76) downloading \n",
            "2.71% complete (down: 1366.7 kb/s up: 51.3 kB/s peers: 76) downloading \n",
            "3.32% complete (down: 2152.5 kb/s up: 74.4 kB/s peers: 77) downloading \n",
            "3.95% complete (down: 2442.3 kb/s up: 88.8 kB/s peers: 78) downloading \n",
            "4.46% complete (down: 2251.6 kb/s up: 75.4 kB/s peers: 76) downloading \n",
            "5.01% complete (down: 2239.8 kb/s up: 71.5 kB/s peers: 75) downloading \n",
            "5.38% complete (down: 1829.5 kb/s up: 57.7 kB/s peers: 77) downloading \n",
            "5.62% complete (down: 1243.6 kb/s up: 38.6 kB/s peers: 76) downloading \n",
            "6.09% complete (down: 1683.3 kb/s up: 52.6 kB/s peers: 76) downloading \n",
            "6.55% complete (down: 1852.4 kb/s up: 57.7 kB/s peers: 75) downloading \n",
            "7.04% complete (down: 1930.9 kb/s up: 60.1 kB/s peers: 75) downloading \n",
            "7.61% complete (down: 2202.7 kb/s up: 69.1 kB/s peers: 77) downloading \n",
            "8.11% complete (down: 2135.5 kb/s up: 66.8 kB/s peers: 76) downloading \n",
            "8.64% complete (down: 2148.5 kb/s up: 66.9 kB/s peers: 76) downloading \n",
            "9.15% complete (down: 2148.1 kb/s up: 67.1 kB/s peers: 77) downloading \n",
            "9.66% complete (down: 2116.7 kb/s up: 66.6 kB/s peers: 78) downloading \n",
            "10.16% complete (down: 2104.0 kb/s up: 65.5 kB/s peers: 80) downloading \n",
            "10.62% complete (down: 2002.5 kb/s up: 76.1 kB/s peers: 80) downloading \n",
            "10.96% complete (down: 1602.1 kb/s up: 63.7 kB/s peers: 80) downloading \n",
            "11.34% complete (down: 1538.9 kb/s up: 56.0 kB/s peers: 81) downloading \n",
            "11.76% complete (down: 1658.7 kb/s up: 61.1 kB/s peers: 81) downloading \n",
            "12.19% complete (down: 1748.0 kb/s up: 58.9 kB/s peers: 81) downloading \n",
            "12.45% complete (down: 1351.3 kb/s up: 57.5 kB/s peers: 81) downloading \n",
            "12.75% complete (down: 1250.7 kb/s up: 58.7 kB/s peers: 83) downloading \n",
            "13.07% complete (down: 1301.0 kb/s up: 52.6 kB/s peers: 84) downloading \n",
            "13.40% complete (down: 1341.9 kb/s up: 55.9 kB/s peers: 83) downloading \n",
            "13.73% complete (down: 1375.7 kb/s up: 50.1 kB/s peers: 83) downloading \n",
            "14.05% complete (down: 1319.4 kb/s up: 52.5 kB/s peers: 82) downloading \n",
            "14.40% complete (down: 1421.8 kb/s up: 56.3 kB/s peers: 82) downloading \n",
            "14.67% complete (down: 1208.4 kb/s up: 49.9 kB/s peers: 84) downloading \n",
            "14.93% complete (down: 1119.4 kb/s up: 45.2 kB/s peers: 84) downloading \n",
            "15.18% complete (down: 1077.3 kb/s up: 37.1 kB/s peers: 81) downloading \n",
            "15.47% complete (down: 1141.1 kb/s up: 36.7 kB/s peers: 81) downloading \n",
            "15.77% complete (down: 1212.4 kb/s up: 38.3 kB/s peers: 81) downloading \n",
            "16.02% complete (down: 1112.4 kb/s up: 34.8 kB/s peers: 81) downloading \n",
            "16.36% complete (down: 1301.6 kb/s up: 41.1 kB/s peers: 81) downloading \n",
            "16.68% complete (down: 1296.5 kb/s up: 52.0 kB/s peers: 82) downloading \n",
            "17.02% complete (down: 1383.4 kb/s up: 46.9 kB/s peers: 81) downloading \n",
            "17.34% complete (down: 1348.1 kb/s up: 43.4 kB/s peers: 82) downloading \n",
            "17.67% complete (down: 1345.3 kb/s up: 42.7 kB/s peers: 83) downloading \n",
            "17.92% complete (down: 1150.0 kb/s up: 35.9 kB/s peers: 82) downloading \n",
            "18.24% complete (down: 1247.0 kb/s up: 39.0 kB/s peers: 82) downloading \n",
            "18.53% complete (down: 1269.3 kb/s up: 39.8 kB/s peers: 82) downloading \n",
            "18.77% complete (down: 1078.4 kb/s up: 59.7 kB/s peers: 83) downloading \n",
            "18.90% complete (down: 720.7 kb/s up: 81.2 kB/s peers: 82) downloading \n",
            "18.99% complete (down: 461.0 kb/s up: 98.5 kB/s peers: 82) downloading \n",
            "19.10% complete (down: 477.5 kb/s up: 105.8 kB/s peers: 82) downloading \n",
            "19.15% complete (down: 313.9 kb/s up: 113.9 kB/s peers: 82) downloading \n",
            "19.20% complete (down: 256.2 kb/s up: 118.3 kB/s peers: 82) downloading \n",
            "19.26% complete (down: 234.0 kb/s up: 116.7 kB/s peers: 84) downloading \n",
            "19.31% complete (down: 219.7 kb/s up: 119.4 kB/s peers: 83) downloading \n",
            "19.38% complete (down: 267.0 kb/s up: 120.3 kB/s peers: 83) downloading \n",
            "19.54% complete (down: 582.2 kb/s up: 118.0 kB/s peers: 83) downloading \n",
            "19.67% complete (down: 564.0 kb/s up: 120.2 kB/s peers: 83) downloading \n",
            "19.79% complete (down: 552.9 kb/s up: 121.5 kB/s peers: 84) downloading \n",
            "19.85% complete (down: 350.5 kb/s up: 122.1 kB/s peers: 85) downloading \n",
            "19.89% complete (down: 235.3 kb/s up: 120.7 kB/s peers: 85) downloading \n",
            "19.96% complete (down: 270.0 kb/s up: 119.7 kB/s peers: 85) downloading \n",
            "20.09% complete (down: 434.6 kb/s up: 117.5 kB/s peers: 84) downloading \n",
            "20.28% complete (down: 647.8 kb/s up: 115.1 kB/s peers: 84) downloading \n",
            "20.48% complete (down: 772.2 kb/s up: 113.1 kB/s peers: 85) downloading \n",
            "20.66% complete (down: 790.3 kb/s up: 114.3 kB/s peers: 86) downloading \n",
            "20.80% complete (down: 658.3 kb/s up: 116.1 kB/s peers: 86) downloading \n",
            "20.88% complete (down: 444.4 kb/s up: 117.6 kB/s peers: 85) downloading \n",
            "20.93% complete (down: 293.2 kb/s up: 120.3 kB/s peers: 85) downloading \n",
            "20.97% complete (down: 226.4 kb/s up: 121.4 kB/s peers: 84) downloading \n",
            "21.00% complete (down: 155.6 kb/s up: 122.1 kB/s peers: 83) downloading \n",
            "21.05% complete (down: 189.2 kb/s up: 118.1 kB/s peers: 83) downloading \n",
            "21.08% complete (down: 158.5 kb/s up: 121.7 kB/s peers: 83) downloading \n",
            "21.12% complete (down: 159.2 kb/s up: 118.8 kB/s peers: 84) downloading \n",
            "21.16% complete (down: 169.5 kb/s up: 120.8 kB/s peers: 84) downloading \n",
            "21.21% complete (down: 182.6 kb/s up: 105.9 kB/s peers: 84) downloading \n",
            "21.25% complete (down: 175.8 kb/s up: 111.3 kB/s peers: 83) downloading \n",
            "21.29% complete (down: 185.5 kb/s up: 104.9 kB/s peers: 84) downloading \n",
            "21.35% complete (down: 238.4 kb/s up: 97.5 kB/s peers: 86) downloading \n",
            "21.46% complete (down: 333.8 kb/s up: 104.2 kB/s peers: 84) downloading \n",
            "21.69% complete (down: 787.3 kb/s up: 109.7 kB/s peers: 85) downloading \n",
            "21.85% complete (down: 685.7 kb/s up: 103.6 kB/s peers: 85) downloading \n",
            "21.97% complete (down: 529.2 kb/s up: 106.1 kB/s peers: 85) downloading \n",
            "22.03% complete (down: 327.2 kb/s up: 109.8 kB/s peers: 85) downloading \n",
            "22.11% complete (down: 352.9 kb/s up: 107.5 kB/s peers: 85) downloading \n",
            "22.20% complete (down: 324.9 kb/s up: 106.3 kB/s peers: 85) downloading \n",
            "22.25% complete (down: 273.2 kb/s up: 113.1 kB/s peers: 85) downloading \n",
            "22.30% complete (down: 231.1 kb/s up: 109.9 kB/s peers: 85) downloading \n",
            "22.36% complete (down: 221.7 kb/s up: 118.6 kB/s peers: 85) downloading \n"
          ]
        }
      ],
      "source": [
        "import libtorrent as lt\n",
        "import time\n",
        "import datetime\n",
        "\n",
        "ses = lt.session()\n",
        "ses.listen_on(6881, 6891) #here we are defining the ports on which BitTorrent works\n",
        "params = {\n",
        "    'save_path': '/content/drive/My Drive/Torrent/',\n",
        "    'storage_mode': lt.storage_mode_t(2)}\n",
        "# params means parameters\n",
        "# In paras we are defining the location on drive where we want to save the downloaded files\n",
        "# we also define storage mode, in this case we are using \"sparse allocation mode\"\n",
        "# The sparse allocation, sparse files are used, and pieces are downloaded directly to where they belong. This is the recommended (and default) mode.\n",
        "print(link)\n",
        "\n",
        "handle = lt.add_magnet_uri(ses, link, params)\n",
        "ses.start_dht()\n",
        "\n",
        "begin = time.time()\n",
        "print(datetime.datetime.now())\n",
        "\n",
        "print ('Downloading Metadata...')\n",
        "while (not handle.has_metadata()):\n",
        "    time.sleep(1)\n",
        "print ('Got Metadata, Starting Torrent Download...')\n",
        "\n",
        "print(\"Starting\", handle.name())\n",
        "\n",
        "while (handle.status().state != lt.torrent_status.seeding):\n",
        "    s = handle.status()\n",
        "    state_str = ['queued', 'checking', 'downloading metadata', \\\n",
        "            'downloading', 'finished', 'seeding', 'allocating']\n",
        "    print ('%.2f%% complete (down: %.1f kb/s up: %.1f kB/s peers: %d) %s ' % \\\n",
        "            (s.progress * 100, s.download_rate / 1000, s.upload_rate / 1000, \\\n",
        "            s.num_peers, state_str[s.state]))\n",
        "    time.sleep(5)\n",
        "\n",
        "end = time.time()\n",
        "print(handle.name(), \"COMPLETE\")\n",
        "\n",
        "print(\"Elapsed Time: \",int((end-begin)//60),\"min :\", int((end-begin)%60), \"sec\")\n",
        "\n",
        "print(datetime.datetime.now())"
      ]
    }
  ],
  "metadata": {
    "accelerator": "GPU",
    "colab": {
      "collapsed_sections": [],
      "name": "torrent downloader.ipynb",
      "provenance": []
    },
    "kernelspec": {
      "display_name": "Python 3",
      "name": "python3"
    }
  },
  "nbformat": 4,
  "nbformat_minor": 0
}